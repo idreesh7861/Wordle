{
 "cells": [
  {
   "attachments": {},
   "cell_type": "markdown",
   "metadata": {},
   "source": [
    "# Modelling the Word Game Wordle\n",
    "\n",
    "The following notebook was created by Ken Pierce. The intention here give some practice in identifying and including pre-conditions, post-conditions, and data invariants using assertions in Python. These are fundamental concepts in creation of formal models, and the use of Python assertions allows us to explore them in a familiar setting.\n",
    "\n",
    "## Wordle\n",
    "\n",
    "Wordle is a word game created by Josh Wardle (https://twitter.com/powerlanguish); it is now owned and published by the New York Times: https://www.nytimes.com/games/wordle/index.html. The instructions for Wordle are as follows:\n",
    "\n",
    "* Guess the WORDLE in 6 tries.\n",
    "* Each guess must be a valid 5 letter word. \n",
    "* The color of the tiles will change to show how close your guess was to the word.\n",
    "* A green letter shows it is in the correct position.\n",
    "* A yellow letter shows it is in the word but in the wrong position.\n",
    "* A grey letter shows that it is not in the word in any position.\n",
    "\n",
    "## Building Models\n",
    "\n",
    "There is no right or wrong way to construct a programme (or formal specification) from natural language specifications. We need to consider the purpose, which guides the abstraction decisions. The steps however can be broadly broken down as:\n",
    "\n",
    "1. Analyse the functional behaviour from the requirements\n",
    "2. Extract a list of possible data types (often from nouns) and functions (often from actions)\n",
    "3. Create a dictionary by giving explanations to items in the list\n",
    "4. Sketch out data types\n",
    "5. Sketch out functions\n",
    "6. Refine and add restrictions\n",
    "7. Review and refine\n",
    "\n",
    "The following will guide us through these steps to define a Wordle game.\n",
    "\n",
    "## Functional Behaviour and Data Types\n",
    "\n",
    "From the description above, we can identify the key elements of the instructions to understand the functionality and suggest data types:\n",
    "\n",
    "* There’s a secret **wordle**\n",
    "    - It has **five** letters (we can infer this though it is not explicit)\n",
    "    - The player loses after **six** tries\n",
    "* The player can make a **guess**\n",
    "    - Guess must be **five** letters\n",
    "    - Guess must be **valid** (= real word?)\n",
    "* The game should output for each letter in a guess:\n",
    "    - If the letter is in the **correct position**\n",
    "    - If the letter in the **wrong position** (but in the word)\n",
    "    - If the letter is **not in the word**"
   ]
  },
  {
   "attachments": {},
   "cell_type": "markdown",
   "metadata": {},
   "source": [
    "# The Programme\n",
    "\n",
    "## Setup\n",
    "\n",
    "Here, we simply include some imports for the later, as well as download a list of valid 5-letter words. Note, if the download  does not work, you can simply define a list of custom list of 5-letter strings, i.e. `WORDS = [\"HELLO\", ...]`."
   ]
  },
  {
   "cell_type": "code",
   "execution_count": 2,
   "metadata": {
    "ExecuteTime": {
     "end_time": "2024-03-18T19:59:33.132190300Z",
     "start_time": "2024-03-18T19:59:32.990243600Z"
    }
   },
   "outputs": [],
   "source": [
    "from dataclasses import dataclass   # for defining dataclasses\n",
    "from enum import Enum               # for defining enumerations\n",
    "import typing                       # for type hinting\n",
    "import random                       # for selecting a random answer\n",
    "from typing import List             # for defining custom typed lists\n",
    "from urllib.request import urlopen  # to load web data\n",
    "\n",
    "# grab a list of words\n",
    "url = 'https://raw.githubusercontent.com/tabatkins/wordle-list/main/words'\n",
    "WORDS = [word.rstrip().decode('UTF-8').upper() for word in urlopen(url).readlines()]\n",
    "\n"
   ]
  },
  {
   "attachments": {},
   "cell_type": "markdown",
   "metadata": {},
   "source": [
    "## Data Types and Contants\n",
    "\n",
    "Next, we can define some simple data types, and constants that we will need to use, based on the above analysis. Here we define:\n",
    "\n",
    "* The length of a valid word.\n",
    "* The maximum number of guesses.\n",
    "* A `Word` type as an alias of `str`\n",
    "* An enumeration of the three types of clue (i.e. colours)\n",
    "* An enumeration for the game state, either in play, won, or lost."
   ]
  },
  {
   "cell_type": "code",
   "execution_count": 3,
   "metadata": {
    "ExecuteTime": {
     "end_time": "2024-03-18T19:59:33.145051100Z",
     "start_time": "2024-03-18T19:59:33.135522200Z"
    }
   },
   "outputs": [],
   "source": [
    "# constants\n",
    "\n",
    "WORD_LENGTH = 5\n",
    "MAX_GUESSES = 6\n",
    "Word = str\n",
    "\n",
    "\n",
    "# type enumerating the three possible clue colours\n",
    "\n",
    "class Clue(Enum):\n",
    "    GREEN = 'GREEN'\n",
    "    YELLOW = 'YELLOW'\n",
    "    GREY = 'GREY'\n",
    "\n",
    "\n",
    "class Gamestate(Enum):\n",
    "    WON = 'WON'\n",
    "    LOST = 'LOST'\n",
    "    PLAYING = 'PLAYING'"
   ]
  },
  {
   "attachments": {},
   "cell_type": "markdown",
   "metadata": {},
   "source": [
    "## Guess\n",
    "\n",
    "We can now introduce a `Guess` type, which represents a guess after it is processed by the game (i.e. one line of the output). We use the `dataclass' decorator and properties to simplify definition. This includes the word that was guessed, and the clues.\n",
    "\n",
    "1. There are two invariants to add to the `setter` functions; what are these? Complete the assertions and include an appropriate message for when they fail. These should restrict the values that `word` and `clues` can take. \n",
    "2. Create some test values for `Guess` to demonstrate the invariants, i.e. `g1 = Guess(\"HELLO\", [Clue.YELLOW, ...])`."
   ]
  },
  {
   "cell_type": "code",
   "execution_count": 4,
   "metadata": {
    "ExecuteTime": {
     "end_time": "2024-03-18T19:59:33.199941800Z",
     "start_time": "2024-03-18T19:59:33.146203500Z"
    }
   },
   "outputs": [],
   "source": [
    "@dataclass\n",
    "class Guess:\n",
    "    \"\"\"\n",
    "    A class to represent a guess in Wordle, which is a Word \n",
    "    plus a clue for each letter.\n",
    "    \"\"\"\n",
    "    word: Word\n",
    "    clues: List[Clue]\n",
    "\n",
    "    \"\"\"\n",
    "    Getter and Setter for word\n",
    "    \"\"\"\n",
    "\n",
    "    @property\n",
    "    def word(self) -> Word:\n",
    "        return self._word\n",
    "\n",
    "    @word.setter\n",
    "    def word(self, word: Word):\n",
    "        assert isinstance(word, Word), \"Word must be of type word\"\n",
    "\n",
    "        self._word = word\n",
    "\n",
    "    \"\"\"\n",
    "    Getter and Setter for Clue\n",
    "    \"\"\"\n",
    "\n",
    "    @property\n",
    "    def clues(self) -> List[Clue]:\n",
    "        return self._clues\n",
    "\n",
    "    @clues.setter\n",
    "    def clues(self, clues: Clue):\n",
    "        assert isinstance(clues, list)\n",
    "\n",
    "        self._clues = clues\n",
    "\n",
    "\n",
    "    def __repr__(self):\n",
    "        \"\"\"\n",
    "        Custom representation for pretty printing.\n",
    "        \"\"\"\n",
    "        cluestr = [str(self.word[i]) + \": \" + \\\n",
    "            self.clues[i].name for i in range(WORD_LENGTH)]\n",
    "        return f\"{self.word}: {cluestr}\"    \n",
    "           \n"
   ]
  },
  {
   "attachments": {},
   "cell_type": "markdown",
   "metadata": {},
   "source": [
    "# Auxiliary Functions\n",
    "\n",
    "There are multiple ways to specify the game. The suggestion here is to have a main class `Game` that includes the state and top-level functions including `make_guess`. To help define those, we define two auxiliary functions:\n",
    "\n",
    "* `check_letter`: Compute clue given a character, its position, and word\n",
    "* `check_guess`: Compute clues given a word and the answer\n",
    "\n",
    "## check_letter \n",
    "\n",
    "This function computes the clue (colour) for a given letter, given a word and the index of the letter in the word. We will start with a naïve implementation:\n",
    "\n",
    "* If it's in the right place, return green (i.e. `Clue.GREEN`)\n",
    "* If it’s not there, return grey\n",
    "* Otherwise, return yellow.\n",
    "\n",
    "Complete the function in the following way:\n",
    "\n",
    "3. What pre-conditions should be included? These should restrict the parameters. Add these and an appropriate message. \n",
    "4. Complete the implementation based on the sketch above.\n",
    "5. Include some test cases to check your implementation, e.g. `print(check_letter(\"S\", 0, \"STOUT\"))`."
   ]
  },
  {
   "cell_type": "code",
   "execution_count": 5,
   "metadata": {
    "ExecuteTime": {
     "end_time": "2024-03-18T19:59:33.201121300Z",
     "start_time": "2024-03-18T19:59:33.179081100Z"
    }
   },
   "outputs": [],
   "source": [
    "def check_letter(letter: str, index: int, word: Word) -> Clue:\n",
    "    \"\"\"\n",
    "    Given a letter and an index, computes the colour of the blue\n",
    "    based on the word.\n",
    "    \"\"\"\n",
    "    assert isinstance(index, int) and \\\n",
    "           isinstance(letter, str) and \\\n",
    "           isinstance(word, Word) and \\\n",
    "           0 <= index <= WORD_LENGTH and \\\n",
    "           len(word) == WORD_LENGTH, \"pre-check_letter failed\"\n",
    "\n",
    "    if word[index: index + 1] == letter:\n",
    "        return Clue.GREEN\n",
    "\n",
    "    if letter in word:\n",
    "        return Clue.YELLOW\n",
    "\n",
    "    return Clue.GREY\n",
    "\n"
   ]
  },
  {
   "attachments": {},
   "cell_type": "markdown",
   "metadata": {},
   "source": [
    "## Check Guess\n",
    "\n",
    "Given a word and the correct answer, this function computes the list of clues. This can be achieved by declaring a local variable, and for each letter in the guess, use `check_letter`; we can use `enumerate(guess)` to get the index.\n",
    "\n",
    "6. What pre-conditions should be included? These should restrict the parameters. Add these and an appropriate message. \n",
    "7. Complete the implementation based on the sketch above.\n",
    "8. Include some test cases to check your implementation, e.g. `print(check_guess(\"STAND\", \"STOUT\"))`."
   ]
  },
  {
   "cell_type": "code",
   "execution_count": 6,
   "metadata": {
    "ExecuteTime": {
     "end_time": "2024-03-18T19:59:33.203343900Z",
     "start_time": "2024-03-18T19:59:33.190502100Z"
    }
   },
   "outputs": [],
   "source": [
    "def check_guess(word: Word, guess: Word) -> List[Clue]:\n",
    "    \"\"\"\n",
    "    Given the answer and a guess, compute the list of \n",
    "    clues corresponding to each letter.\n",
    "    \"\"\"\n",
    "    assert isinstance(word, Word) and \\\n",
    "           isinstance(guess, Word) and \\\n",
    "           len(guess) == WORD_LENGTH and \\\n",
    "           len(word) == WORD_LENGTH, \"pre-check_guess failed\"\n",
    "\n",
    "    clues = []\n",
    "    for index, letter in enumerate(guess):\n",
    "        clues.append(check_letter(guess[index: index + 1], index, word))\n",
    "\n",
    "    return clues\n"
   ]
  },
  {
   "attachments": {},
   "cell_type": "markdown",
   "metadata": {},
   "source": [
    "# Game State and Top-level Functionality"
   ]
  },
  {
   "attachments": {},
   "cell_type": "markdown",
   "metadata": {},
   "source": [
    "Here we define a `Game` class; the state is the current wordle (`answer`), the guesses made so far, and the state of the game (playing, won, or lost). Functionlity is included to print a message to the player about the game, and to rest the game when it is over.\n",
    "\n",
    "## make_guess\n",
    "\n",
    "The top-level function is `make_guesss` which takes a single word as a parameter. This function should use `check_guesss` to compute the guess and store it in `guesses`; it should then update the game state by checking if the game has been won (the word is exactly the same as the answer), or lost (the player reached the maximum number of guesses).\n",
    "\n",
    "9. What pre-conditions should be included? These should restrict the parameters and the game state in which a guess is made (e.g. the player should not be able to guess if the game finished). Add these and an appropriate message.\n",
    "10. Complete the implementation based on the sketch above, and play a game! You can alternate `game.make_guess(...)` and `game.print_state()` to play.\n",
    "\n",
    "Note, can you spot the problem with the naïve implementation of `check_letter`?"
   ]
  },
  {
   "cell_type": "code",
   "execution_count": 7,
   "metadata": {
    "ExecuteTime": {
     "end_time": "2024-03-18T19:59:33.251256400Z",
     "start_time": "2024-03-18T19:59:33.203343900Z"
    }
   },
   "outputs": [
    {
     "name": "stdout",
     "output_type": "stream",
     "text": [
      "Guess the wordle, you have 6 guesses remaining.\n"
     ]
    }
   ],
   "source": [
    "\n",
    "class Game:\n",
    "    answer: Word\n",
    "    guesses: List[Guess]\n",
    "    gstate: Gamestate\n",
    "\n",
    "    def __init__(self, answer=\"STOUT\"):\n",
    "        \"\"\"\n",
    "        Constructor for game.\n",
    "        \"\"\"\n",
    "        self.answer = answer\n",
    "        self.guesses = []\n",
    "        self.gstate = Gamestate.PLAYING\n",
    "\n",
    "    def make_guess(self, word: Word):\n",
    "        \"\"\"\n",
    "        Make a guess at the wordle.\n",
    "        \"\"\"\n",
    "        assert self.gstate == Gamestate.PLAYING and \\\n",
    "               isinstance(word, Word) and \\\n",
    "               len(word) == WORD_LENGTH and \\\n",
    "               word.upper() in WORDS, \"make-guess assertion failed\"\n",
    "\n",
    "        word = word.upper()\n",
    "        guess = Guess(word, check_guess(self.answer, word))\n",
    "        self.guesses.append(guess)\n",
    "\n",
    "        if not (Clue.YELLOW in guess.clues or Clue.GREY in guess.clues):\n",
    "            self.gstate = Gamestate.WON\n",
    "\n",
    "        if len(self.guesses) == 6:\n",
    "            self.gstate = Gamestate.LOST\n",
    "\n",
    "    def print_state(self):\n",
    "        \"\"\"\n",
    "        Prints a message to the user based on the current state of the game.\n",
    "        \"\"\"\n",
    "        for guess in self.guesses: print(guess)\n",
    "        if self.gstate == Gamestate.WON: print(f\"You won! You took {len(self.guesses)} guesses.\")\n",
    "        elif self.gstate == Gamestate.LOST: print(f\"You lost! The answer was: {self.answer}.\")\n",
    "        else: print(f\"Guess the wordle, you have {MAX_GUESSES - len(self.guesses)} guesses remaining.\")\n",
    "\n",
    "    def game_over(self) -> bool:\n",
    "        \"\"\"\n",
    "        Yields true if the game is over (won or lost), false otherwise.\n",
    "        \"\"\"\n",
    "        return self.gstate == Gamestate.WON or self.gstate == Gamestate.LOST \n",
    "\n",
    "    def reset(self):\n",
    "        \"\"\"\n",
    "        Reset the game by picking a new word, clearing the guess, and\n",
    "        setting the state back to playing.\n",
    "        \"\"\"\n",
    "        # pre-condition\n",
    "        assert self.game_over(), \"Cannot reset, game in play\"\n",
    "        self.answer = random.choice(WORDS)\n",
    "        self.guesses = []\n",
    "        self.gstate = Gamestate.PLAYING\n",
    "   \n",
    "game = Game()\n",
    "game.print_state()\n",
    "game.make_guess(\"stand\")\n"
   ]
  },
  {
   "cell_type": "markdown",
   "source": [
    "# Extended Tasks\n",
    "## Tests"
   ],
   "metadata": {
    "collapsed": false
   }
  },
  {
   "cell_type": "code",
   "outputs": [
    {
     "name": "stdout",
     "output_type": "stream",
     "text": [
      "Clue.GREEN\n",
      "Clue.YELLOW\n",
      "Clue.GREY\n",
      "[<Clue.GREEN: 'GREEN'>, <Clue.GREEN: 'GREEN'>, <Clue.GREY: 'GREY'>, <Clue.GREY: 'GREY'>, <Clue.YELLOW: 'YELLOW'>]\n",
      "Hint undefined\n",
      "Hint undefined\n"
     ]
    }
   ],
   "source": [
    "print(check_letter(\"S\", 0, \"STOUT\"))  # Expected Output: CLUE.GREEN\n",
    "print(check_letter(\"S\", 3, \"STOUT\"))  # Expected Output: CLUE.YELLOW\n",
    "print(check_letter(\"Z\", 0, \"STOUT\"))  # Expected Output: CLUE.GREY\n",
    "\n",
    "print(check_guess(\"STAND\", \"STOUT\"))\n",
    "# Expected Output: [<Clue.GREEN>, <Clue.GREEN>, <Clue.GREY>, <Clue.GREY>, <Clue.GREY>]\n",
    "\n",
    "try:\n",
    "    hint1 = Hint('A')\n",
    "    print(hint1)  # Expected Output: A\n",
    "\n",
    "    hint2 = Hint('AB')  # Expected Output: Hint must be a single character\n",
    "    print(hint2)\n",
    "except ValueError as error:\n",
    "    print(error)\n",
    "except NameError as error:\n",
    "    print(\"Hint undefined\")\n",
    "\n",
    "try:\n",
    "    hint3 = Hint('a')\n",
    "    print(hint3)\n",
    "except ValueError as error:\n",
    "    print(error)  # Expected Output: Hint must be a single uppercase letter A-Z\n",
    "except NameError as error:\n",
    "    print(\"Hint undefined\")"
   ],
   "metadata": {
    "collapsed": false,
    "ExecuteTime": {
     "end_time": "2024-03-18T19:59:33.253791600Z",
     "start_time": "2024-03-18T19:59:33.224629500Z"
    }
   },
   "execution_count": 8
  },
  {
   "cell_type": "markdown",
   "source": [
    "## Hint\n",
    "\n",
    "## Improved check_guess implementation\n",
    "\n",
    "## Hard Mode\n",
    "\n",
    "# Further Expansion\n",
    "## Visualisation\n",
    "### Completed Visual\n",
    "### GUI Prototype"
   ],
   "metadata": {
    "collapsed": false
   }
  }
 ],
 "metadata": {
  "kernelspec": {
   "display_name": "Python 3",
   "language": "python",
   "name": "python3"
  },
  "language_info": {
   "codemirror_mode": {
    "name": "ipython",
    "version": 3
   },
   "file_extension": ".py",
   "mimetype": "text/x-python",
   "name": "python",
   "nbconvert_exporter": "python",
   "pygments_lexer": "ipython3",
   "version": "3.12.1"
  },
  "orig_nbformat": 4,
  "vscode": {
   "interpreter": {
    "hash": "9650cb4e16cdd4a8e8e2d128bf38d875813998db22a3c986335f89e0cb4d7bb2"
   }
  }
 },
 "nbformat": 4,
 "nbformat_minor": 2
}
