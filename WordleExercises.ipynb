{
 "cells": [
  {
   "attachments": {},
   "cell_type": "markdown",
   "metadata": {},
   "source": [
    "# Wordle\n",
    "\n",
    "This notebook was created by Idrees Hussain."
   ]
  },
  {
   "attachments": {},
   "cell_type": "markdown",
   "metadata": {},
   "source": [
    "# The Programme\n",
    "\n",
    "## Setup\n",
    "\n",
    "Here, we simply include some imports for the later, as well as download a list of valid 5-letter words. \n",
    "\n",
    "I have surrounded the download attempt in a try-catch statement. This means that if the Internet Connection is not functioning correctly for whatever reason, the program will inform the user before terminating. This prevents an error from occuring and forcing the program into an unexpected state."
   ]
  },
  {
   "cell_type": "code",
   "execution_count": 212,
   "metadata": {
    "ExecuteTime": {
     "end_time": "2024-03-18T22:47:22.386754Z",
     "start_time": "2024-03-18T22:47:22.212896600Z"
    }
   },
   "outputs": [],
   "source": [
    "from dataclasses import dataclass   # for defining dataclasses\n",
    "from enum import Enum               # for defining enumerations\n",
    "import typing                       # for type hinting\n",
    "import random                       # for selecting a random answer\n",
    "from typing import List             # for defining custom typed lists\n",
    "from urllib.request import urlopen  # to load web data\n",
    "\n",
    "# grab a list of words\n",
    "\n",
    "url = 'https://raw.githubusercontent.com/tabatkins/wordle-list/main/words'\n",
    "try:\n",
    "    WORDS = [word.rstrip().decode('UTF-8').upper() for word in urlopen(url).readlines()]\n",
    "    setWords = set(WORDS)\n",
    "except URLError as e:\n",
    "    print(\"Internet Connection Error: {0}\".format(e))\n",
    "    print(\"Exiting...\")\n",
    "    quit()"
   ]
  },
  {
   "attachments": {},
   "cell_type": "markdown",
   "metadata": {},
   "source": [
    "## Data Types and Contants\n",
    "\n",
    "Next, we can define some simple data types, and constants that we will need to use, based on the above analysis. Here we define:\n",
    "\n",
    "* The length of a valid word.\n",
    "* The maximum number of guesses.\n",
    "* A `Word` type as an alias of `str`\n",
    "* An enumeration of the three types of clue (i.e. colours)\n",
    "* An enumeration for the game state, either in play, won, or lost."
   ]
  },
  {
   "cell_type": "code",
   "execution_count": 213,
   "metadata": {
    "ExecuteTime": {
     "end_time": "2024-03-18T22:47:22.388952100Z",
     "start_time": "2024-03-18T22:47:22.384428800Z"
    }
   },
   "outputs": [],
   "source": [
    "# constants\n",
    "\n",
    "WORD_LENGTH = 5\n",
    "MAX_GUESSES = 6\n",
    "Word = str\n",
    "\n",
    "\n",
    "# type enumerating the three possible clue colours\n",
    "\n",
    "class Clue(Enum):\n",
    "    GREEN = 'GREEN'\n",
    "    YELLOW = 'YELLOW'\n",
    "    GREY = 'GREY'\n",
    "\n",
    "\n",
    "class Gamestate(Enum):\n",
    "    WON = 'WON'\n",
    "    LOST = 'LOST'\n",
    "    PLAYING = 'PLAYING'"
   ]
  },
  {
   "attachments": {},
   "cell_type": "markdown",
   "metadata": {},
   "source": [
    "## Guess\n",
    "\n",
    "We can now introduce a `Guess` type, which represents a guess after it is processed by the game (i.e. one line of the output). We use the `dataclass' decorator and properties to simplify definition. This includes the word that was guessed, and the clues.\n",
    "\n",
    "1. There are two invariants to add to the `setter` functions; what are these? Complete the assertions and include an appropriate message for when they fail. These should restrict the values that `word` and `clues` can take. \n",
    "2. Create some test values for `Guess` to demonstrate the invariants, i.e. `g1 = Guess(\"HELLO\", [Clue.YELLOW, ...])`."
   ]
  },
  {
   "cell_type": "code",
   "execution_count": 214,
   "metadata": {
    "ExecuteTime": {
     "end_time": "2024-03-18T22:47:22.415544100Z",
     "start_time": "2024-03-18T22:47:22.394759100Z"
    }
   },
   "outputs": [],
   "source": [
    "@dataclass\n",
    "class Guess:\n",
    "    \"\"\"\n",
    "    A class to represent a guess in Wordle, which is a Word \n",
    "    plus a clue for each letter.\n",
    "    \"\"\"\n",
    "    word: Word\n",
    "    clues: List[Clue]\n",
    "\n",
    "    \"\"\"\n",
    "    Getter and Setter for word\n",
    "    \"\"\"\n",
    "\n",
    "    @property\n",
    "    def word(self) -> Word:\n",
    "        return self._word\n",
    "\n",
    "    @word.setter\n",
    "    def word(self, word: Word):\n",
    "        assert isinstance(word, Word), \"Word must be of type word\"\n",
    "\n",
    "        self._word = word\n",
    "\n",
    "    \"\"\"\n",
    "    Getter and Setter for Clue\n",
    "    \"\"\"\n",
    "\n",
    "    @property\n",
    "    def clues(self) -> List[Clue]:\n",
    "        return self._clues\n",
    "\n",
    "    @clues.setter\n",
    "    def clues(self, clues: Clue):\n",
    "        assert isinstance(clues, list)\n",
    "\n",
    "        self._clues = clues\n",
    "\n",
    "\n",
    "    def __repr__(self):\n",
    "        \"\"\"\n",
    "        Custom representation for pretty printing.\n",
    "        \"\"\"\n",
    "        cluestr = [str(self.word[i]) + \": \" + \\\n",
    "            self.clues[i].name for i in range(WORD_LENGTH)]\n",
    "        return f\"{self.word}: {cluestr}\"    \n",
    "           \n"
   ]
  },
  {
   "attachments": {},
   "cell_type": "markdown",
   "metadata": {},
   "source": [
    "# Auxiliary Functions\n",
    "\n",
    "There are multiple ways to specify the game. The suggestion here is to have a main class `Game` that includes the state and top-level functions including `make_guess`. To help define those, we define two auxiliary functions:\n",
    "\n",
    "* `check_letter`: Compute clue given a character, its position, and word\n",
    "* `check_guess`: Compute clues given a word and the answer\n",
    "\n",
    "## check_letter \n",
    "\n",
    "This function computes the clue (colour) for a given letter, given a word and the index of the letter in the word. We will start with a naïve implementation:\n",
    "\n",
    "* If it's in the right place, return green (i.e. `Clue.GREEN`)\n",
    "* If it’s not there, return grey\n",
    "* Otherwise, return yellow.\n",
    "\n",
    "Complete the function in the following way:\n",
    "\n",
    "3. What pre-conditions should be included? These should restrict the parameters. Add these and an appropriate message. \n",
    "4. Complete the implementation based on the sketch above.\n",
    "5. Include some test cases to check your implementation, e.g. `print(check_letter(\"S\", 0, \"STOUT\"))`."
   ]
  },
  {
   "cell_type": "code",
   "execution_count": 215,
   "metadata": {
    "ExecuteTime": {
     "end_time": "2024-03-18T22:47:22.433977Z",
     "start_time": "2024-03-18T22:47:22.416634400Z"
    }
   },
   "outputs": [],
   "source": [
    "def check_letter(letter: str, index: int, word: Word) -> Clue:\n",
    "    \"\"\"\n",
    "    Given a letter and an index, computes the colour of the blue\n",
    "    based on the word.\n",
    "    \"\"\"\n",
    "    assert isinstance(index, int) and \\\n",
    "           isinstance(letter, str) and \\\n",
    "           isinstance(word, Word) and \\\n",
    "           0 <= index <= WORD_LENGTH and \\\n",
    "           len(letter) == 1 and \\\n",
    "           len(word) == WORD_LENGTH, \"pre-check_letter failed\"\n",
    "\n",
    "    if word[index: index + 1] == letter:\n",
    "        return Clue.GREEN\n",
    "\n",
    "    if letter in word:\n",
    "        return Clue.YELLOW\n",
    "\n",
    "    return Clue.GREY\n",
    "\n"
   ]
  },
  {
   "attachments": {},
   "cell_type": "markdown",
   "metadata": {},
   "source": [
    "## Check Guess\n",
    "\n",
    "Given a word and the correct answer, this function computes the list of clues. This can be achieved by declaring a local variable, and for each letter in the guess, use `check_letter`; we can use `enumerate(guess)` to get the index.\n",
    "\n",
    "6. What pre-conditions should be included? These should restrict the parameters. Add these and an appropriate message. \n",
    "7. Complete the implementation based on the sketch above.\n",
    "8. Include some test cases to check your implementation, e.g. `print(check_guess(\"STAND\", \"STOUT\"))`."
   ]
  },
  {
   "cell_type": "code",
   "execution_count": 216,
   "metadata": {
    "ExecuteTime": {
     "end_time": "2024-03-18T22:47:22.443978700Z",
     "start_time": "2024-03-18T22:47:22.430109200Z"
    }
   },
   "outputs": [],
   "source": [
    "def check_guess(word: Word, guess: Word) -> List[Clue]:\n",
    "    \"\"\"\n",
    "    Given the answer and a guess, compute the list of \n",
    "    clues corresponding to each letter.\n",
    "    \"\"\"\n",
    "    assert isinstance(word, Word) and \\\n",
    "           isinstance(guess, Word) and \\\n",
    "           len(guess) == WORD_LENGTH and \\\n",
    "           len(word) == WORD_LENGTH, \"pre-check_guess failed\"\n",
    "\n",
    "    clues = []\n",
    "    for index, letter in enumerate(guess):\n",
    "        clues.append(check_letter(guess[index: index + 1], index, word))\n",
    "\n",
    "    return clues\n"
   ]
  },
  {
   "attachments": {},
   "cell_type": "markdown",
   "metadata": {},
   "source": [
    "# Game State and Top-level Functionality"
   ]
  },
  {
   "attachments": {},
   "cell_type": "markdown",
   "metadata": {},
   "source": [
    "## Game"
   ]
  },
  {
   "cell_type": "code",
   "execution_count": 217,
   "metadata": {
    "ExecuteTime": {
     "end_time": "2024-03-18T22:47:22.453914400Z",
     "start_time": "2024-03-18T22:47:22.436561300Z"
    }
   },
   "outputs": [],
   "source": [
    "class Game:\n",
    "    answer: Word\n",
    "    guesses: List[Guess]\n",
    "    gstate: Gamestate\n",
    "\n",
    "    def __init__(self, answer=\"STOUT\"):\n",
    "        \"\"\"\n",
    "        Constructor for game.\n",
    "        \"\"\"\n",
    "        self.answer = answer\n",
    "        self.guesses = []\n",
    "        self.gstate = Gamestate.PLAYING\n",
    "\n",
    "    def make_guess(self, word: Word):\n",
    "        \"\"\"\n",
    "        Make a guess at the wordle.\n",
    "        \"\"\"\n",
    "        assert self.gstate == Gamestate.PLAYING and \\\n",
    "               isinstance(word, Word) and \\\n",
    "               len(word) == WORD_LENGTH and \\\n",
    "               word.upper() in setWords, \"make-guess assertion failed\"\n",
    "\n",
    "        word = word.upper()\n",
    "        guess = Guess(word, check_guess(self.answer, word))\n",
    "        self.guesses.append(guess)\n",
    "\n",
    "        if not (Clue.YELLOW in guess.clues or Clue.GREY in guess.clues):\n",
    "            self.gstate = Gamestate.WON\n",
    "\n",
    "        if len(self.guesses) == 6:\n",
    "            self.gstate = Gamestate.LOST\n",
    "\n",
    "    def print_state(self):\n",
    "        \"\"\"\n",
    "        Prints a message to the user based on the current state of the game.\n",
    "        \"\"\"\n",
    "        for guess in self.guesses: print(guess)\n",
    "        if self.gstate == Gamestate.WON: print(f\"You won! You took {len(self.guesses)} guesses.\")\n",
    "        elif self.gstate == Gamestate.LOST: print(f\"You lost! The answer was: {self.answer}.\")\n",
    "        else: print(f\"Guess the wordle, you have {MAX_GUESSES - len(self.guesses)} guesses remaining.\")\n",
    "\n",
    "    def game_over(self) -> bool:\n",
    "        \"\"\"\n",
    "        Yields true if the game is over (won or lost), false otherwise.\n",
    "        \"\"\"\n",
    "        return self.gstate == Gamestate.WON or self.gstate == Gamestate.LOST \n",
    "\n",
    "    def reset(self):\n",
    "        \"\"\"\n",
    "        Reset the game by picking a new word, clearing the guess, and\n",
    "        setting the state back to playing.\n",
    "        \"\"\"\n",
    "        # pre-condition\n",
    "        assert self.game_over(), \"Cannot reset, game in play\"\n",
    "        self.answer = random.choice(WORDS)\n",
    "        self.guesses = []\n",
    "        self.gstate = Gamestate.PLAYING\n",
    "    \n",
    "    def print_hint(self):\n",
    "        lst = []\n",
    "        for letter in self.answer:\n",
    "            lst.append(letter)\n",
    "\n",
    "        hint = Hint(random.choice(lst))\n",
    "        print(\"HINT: The letter {0} is the {1} letter in the word.\".format(\n",
    "            hint, numbers_to_ordinal(lst.index(str(hint)))))\n"
   ]
  },
  {
   "cell_type": "markdown",
   "metadata": {
    "collapsed": false
   },
   "source": [
    "# Extended Tasks"
   ]
  },
  {
   "cell_type": "markdown",
   "metadata": {
    "collapsed": false
   },
   "source": [
    "## Hint"
   ]
  },
  {
   "cell_type": "code",
   "execution_count": 218,
   "metadata": {
    "ExecuteTime": {
     "end_time": "2024-03-18T22:47:22.482337700Z",
     "start_time": "2024-03-18T22:47:22.450793300Z"
    },
    "collapsed": false
   },
   "outputs": [],
   "source": [
    "@dataclass\n",
    "class Hint:\n",
    "    # Hint is defined as a single alphabetic uppercase character\n",
    "    def __init__(self, hint):\n",
    "        \n",
    "        assert isinstance(hint, str) and \\\n",
    "            len(hint) == 1 and \\\n",
    "            hint.isalpha() and hint.isupper(), \"Hint pre-condition failed\"\n",
    "\n",
    "        # Sets hint to inputted value\n",
    "        self.hint = hint\n",
    "\n",
    "    def __str__(self):\n",
    "        return self.hint\n",
    "\n",
    "def numbers_to_ordinal(number: int) -> str:\n",
    "    assert isinstance(number, int) and 0 <= number <= 4\n",
    "    match number:\n",
    "        case 0:\n",
    "            return \"1st\"\n",
    "        case 1:\n",
    "            return \"2nd\"\n",
    "        case 2:\n",
    "            return \"3rd\"\n",
    "        case 3:\n",
    "            return \"4th\"\n",
    "        case 4:\n",
    "            return \"5th\"\n",
    "        case _:\n",
    "            return \"Error Occurred\"\n",
    "        \n",
    "def playgame():\n",
    "    game = Game()\n",
    "\n",
    "    game.gstate = Gamestate.WON\n",
    "\n",
    "    # Reset game to reset word from default\n",
    "\n",
    "    game.reset()\n",
    "    while game.gstate == Gamestate.PLAYING:\n",
    "        game.print_state()\n",
    "        Input = \"TEST\"\n",
    "\n",
    "        while Input.upper() not in setWords:\n",
    "            if Input.upper() == \"HINT\":\n",
    "                game.print_state()\n",
    "                game.print_hint()\n",
    "            Input = input(\"Please enter a valid word\\n\")\n",
    "\n",
    "        game.make_guess(Input)\n",
    "\n",
    "    game.print_state()\n",
    "    pass"
   ]
  },
  {
   "cell_type": "markdown",
   "metadata": {
    "collapsed": false
   },
   "source": [
    "## Improved check_guess implementation"
   ]
  },
  {
   "cell_type": "code",
   "execution_count": 219,
   "metadata": {
    "ExecuteTime": {
     "end_time": "2024-03-18T22:47:22.483411700Z",
     "start_time": "2024-03-18T22:47:22.469622100Z"
    },
    "collapsed": false
   },
   "outputs": [],
   "source": [
    "def check_green(letter: str, index: int, word: Word, char_count: dict) -> [Clue, dict]:\n",
    "    if word[index: index + 1] == letter:\n",
    "        char_count[letter] -= 1\n",
    "        return Clue.GREEN, char_count\n",
    "\n",
    "    return Clue.GREY, char_count\n",
    "\n",
    "\n",
    "def check_yellow(letter: str, word: Word, char_count: dict) -> [Clue, dict]:\n",
    "    if letter in word and char_count[letter] != 0:\n",
    "        char_count[letter] -= 1\n",
    "        return Clue.YELLOW, char_count\n",
    "\n",
    "    return None, char_count\n",
    "\n",
    "\n",
    "def check_guess(word: Word, guess: Word) -> List[Clue]:\n",
    "    \"\"\"\n",
    "    Given the answer and a guess compute the list of clues corresponding to each letter\n",
    "    \"\"\"\n",
    "\n",
    "    assert isinstance(word, Word) and \\\n",
    "           isinstance(guess, Word) and \\\n",
    "           len(guess) == WORD_LENGTH and \\\n",
    "           len(word) == WORD_LENGTH, \"pre-check_guess failed\"\n",
    "\n",
    "    # Create a dictionary with a char count\n",
    "    char_count = {}\n",
    "    for char in word:\n",
    "        if char in char_count.keys():\n",
    "            char_count[char] += 1\n",
    "        else:\n",
    "            char_count[char] = 1\n",
    "\n",
    "    clues = [Clue.GREY for i in range(WORD_LENGTH)]\n",
    "\n",
    "    # Check Green\n",
    "\n",
    "    for index, letter in enumerate(guess):\n",
    "        clues[index], char_count = check_green(letter, index, word, char_count)\n",
    "\n",
    "    # Check Yellow\n",
    "\n",
    "    for index, letter in enumerate(guess):\n",
    "        temp, char_count = check_yellow(letter, word, char_count)\n",
    "        if temp is not None:\n",
    "            clues[index] = temp\n",
    "\n",
    "    return clues"
   ]
  },
  {
   "cell_type": "markdown",
   "metadata": {
    "collapsed": false
   },
   "source": [
    "## Hard Mode"
   ]
  },
  {
   "cell_type": "code",
   "execution_count": 220,
   "metadata": {
    "ExecuteTime": {
     "end_time": "2024-03-18T22:47:22.520689Z",
     "start_time": "2024-03-18T22:47:22.479233800Z"
    },
    "collapsed": false
   },
   "outputs": [],
   "source": [
    "def playHardMode():\n",
    "    game = Game()\n",
    "    game.gstate = Gamestate.WON\n",
    "\n",
    "    # Reset game to reset word from default\n",
    "\n",
    "    game.reset()\n",
    "\n",
    "    while game.gstate == Gamestate.PLAYING:\n",
    "        game.print_state()\n",
    "        Input = \"TEST\"\n",
    "        while Input.upper() not in setWords:\n",
    "            # HARD MODE CODE\n",
    "            #\n",
    "            Input = input(\"Please enter a valid word\\n\")\n",
    "            Input = Input.upper()\n",
    "\n",
    "            if Input == \"HINT\":\n",
    "                game.print_state()\n",
    "                game.print_hint()\n",
    "\n",
    "            if Input in setWords:\n",
    "                if len(game.guesses) != 0:\n",
    "                    index = -1\n",
    "                    for clue in game.guesses[len(game.guesses) - 1].clues:\n",
    "                        index += 1\n",
    "                        if clue == Clue.GREEN and Input[index] != game.guesses[len(game.guesses) - 1].word[index]:\n",
    "                            Input = \"TEST\"\n",
    "                            break\n",
    "\n",
    "                        if clue == Clue.YELLOW and game.guesses[len(game.guesses) - 1].word[index] not in Input:\n",
    "                            Input = \"TEST\"\n",
    "                            break\n",
    "\n",
    "        game.make_guess(Input)\n",
    "\n",
    "    game.print_state()\n",
    "    pass"
   ]
  },
  {
   "cell_type": "markdown",
   "metadata": {
    "collapsed": false
   },
   "source": [
    "## Tests"
   ]
  },
  {
   "cell_type": "code",
   "execution_count": 221,
   "metadata": {
    "ExecuteTime": {
     "end_time": "2024-03-18T22:47:22.523935400Z",
     "start_time": "2024-03-18T22:47:22.498036300Z"
    },
    "collapsed": false
   },
   "outputs": [
    {
     "name": "stdout",
     "output_type": "stream",
     "text": [
      "TEST PASSED\n",
      "TEST PASSED\n",
      "TEST PASSED\n",
      "TEST PASSED\n",
      "TEST PASSED\n",
      "TEST PASSED\n",
      "TEST PASSED\n",
      "TEST PASSED\n",
      "Successfully passed 8/8 tests\n"
     ]
    }
   ],
   "source": [
    "passed_tests = 0\n",
    "tests_attempted = 0\n",
    "\n",
    "try:\n",
    "    assert (check_letter(\"S\", 0, \"STOUT\")) == Clue.GREEN\n",
    "    print(\"TEST PASSED\")\n",
    "    tests_attempted += 1\n",
    "    passed_tests += 1\n",
    "except AssertionError as error:\n",
    "    print(\"TEST FAILED\")\n",
    "    tests_attempted += 1\n",
    "\n",
    "try:\n",
    "    assert (check_letter(\"S\", 3, \"STOUT\")) == Clue.YELLOW \n",
    "    print(\"TEST PASSED\")\n",
    "    tests_attempted += 1\n",
    "    passed_tests += 1\n",
    "except AssertionError as error:\n",
    "    print(\"TEST FAILED\")\n",
    "    tests_attempted += 1\n",
    "\n",
    "try:\n",
    "    assert (check_letter(\"Z\", 0, \"STOUT\")) == Clue.GREY\n",
    "    print(\"TEST PASSED\")\n",
    "    passed_tests += 1\n",
    "    tests_attempted += 1\n",
    "except AssertionError as error:\n",
    "    print(\"TEST FAILED\")\n",
    "    tests_attempted += 1\n",
    "\n",
    "try:\n",
    "    assert check_guess(\"STAND\", \"STOUT\") == [Clue.GREEN, Clue.GREEN, Clue.GREY, Clue.GREY, Clue.GREY]\n",
    "    print(\"TEST PASSED\")\n",
    "    tests_attempted += 1\n",
    "    passed_tests += 1\n",
    "except AssertionError as error:\n",
    "    print(\"TEST FAILED\")\n",
    "    tests_attempted += 1\n",
    "\n",
    "try:\n",
    "    assert check_guess(\"LOOPS\", \"IGLOO\") == [Clue.GREY, Clue.GREY, Clue.YELLOW, Clue.YELLOW, Clue.YELLOW]\n",
    "    print(\"TEST PASSED\")\n",
    "    passed_tests += 1\n",
    "    tests_attempted += 1\n",
    "except AssertionError as error:\n",
    "    print(\"TEST FAILED\")\n",
    "    tests_attempted += 1\n",
    "\n",
    "try:\n",
    "    hint1 = Hint('A')\n",
    "    print(\"TEST PASSED\")\n",
    "    passed_tests += 1\n",
    "    tests_attempted += 1\n",
    "except AssertionError as error:\n",
    "    print(\"TEST FAILED\")\n",
    "    tests_attempted += 1\n",
    "\n",
    "try:\n",
    "    hint2 = Hint('AB')\n",
    "    print(\"TEST FAILED\")\n",
    "    tests_attempted += 1\n",
    "except AssertionError as error:\n",
    "    print(\"TEST PASSED\")\n",
    "    passed_tests += 1\n",
    "    tests_attempted += 1\n",
    "\n",
    "try:\n",
    "    hint2 = Hint('a')\n",
    "    print(\"TEST FAILED\")\n",
    "    tests_attempted += 1\n",
    "except AssertionError as error:\n",
    "    print(\"TEST PASSED\")\n",
    "    passed_tests += 1\n",
    "    tests_attempted += 1\n",
    "\n",
    "print(\"Successfully passed {0}/{1} tests\".format(passed_tests, tests_attempted))"
   ]
  },
  {
   "cell_type": "markdown",
   "metadata": {
    "collapsed": false
   },
   "source": [
    "# Further Expansion\n",
    "## Game Menu"
   ]
  },
  {
   "cell_type": "code",
   "execution_count": 222,
   "metadata": {
    "ExecuteTime": {
     "start_time": "2024-03-18T22:47:22.512316800Z"
    },
    "collapsed": false,
    "is_executing": true
   },
   "outputs": [],
   "source": [
    "import time  # For adding delays in code\n",
    "\n",
    "def menu():\n",
    "    \"\"\"\n",
    "    Function to print and navigate menu\n",
    "    \"\"\"\n",
    "    while True:\n",
    "        # Print Menu Options\n",
    "        print(\"\"\"\n",
    "        1) Play Game\n",
    "        2) Hard Mode\n",
    "        3) Tests\n",
    "        4) Quit\n",
    "        \"\"\")\n",
    "        try:\n",
    "            # Accept user input to navigate menu\n",
    "            int_input = int(input(\"Enter your choice: \"))\n",
    "\n",
    "            match int_input:\n",
    "                case 1:\n",
    "                    # Regular Game Mode\n",
    "                    playgame()\n",
    "                case 2:\n",
    "                    # Hard Mode\n",
    "                    playHardMode()\n",
    "                case 3:\n",
    "                    # Test Scenarios\n",
    "                    test()\n",
    "                case 4:\n",
    "                    # Quit\n",
    "                    exit()\n",
    "                    quit()\n",
    "                case _:\n",
    "                    # If other numbers are entered\n",
    "                    print(\"Invalid Entry\")\n",
    "                    time.sleep(1)\n",
    "        except ValueError:\n",
    "            # If input by user is not a number\n",
    "            print(\"Invalid Entry\")\n",
    "            time.sleep(1)\n",
    "\n",
    "\n",
    "def main():\n",
    "    menu()"
   ]
  },
  {
   "cell_type": "markdown",
   "metadata": {
    "collapsed": false
   },
   "source": [
    "## Visualisation"
   ]
  },
  {
   "cell_type": "code",
   "execution_count": null,
   "metadata": {
    "collapsed": false,
    "is_executing": true
   },
   "outputs": [],
   "source": []
  },
  {
   "cell_type": "markdown",
   "metadata": {
    "collapsed": false
   },
   "source": [
    "### GUI Prototype"
   ]
  },
  {
   "cell_type": "code",
   "execution_count": null,
   "metadata": {
    "collapsed": false,
    "is_executing": true
   },
   "outputs": [],
   "source": []
  }
 ],
 "metadata": {
  "kernelspec": {
   "display_name": "Python 3",
   "language": "python",
   "name": "python3"
  },
  "language_info": {
   "codemirror_mode": {
    "name": "ipython",
    "version": 3
   },
   "file_extension": ".py",
   "mimetype": "text/x-python",
   "name": "python",
   "nbconvert_exporter": "python",
   "pygments_lexer": "ipython3",
   "version": "3.12.1"
  },
  "orig_nbformat": 4,
  "vscode": {
   "interpreter": {
    "hash": "9650cb4e16cdd4a8e8e2d128bf38d875813998db22a3c986335f89e0cb4d7bb2"
   }
  }
 },
 "nbformat": 4,
 "nbformat_minor": 2
}
