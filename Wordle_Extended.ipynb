{
 "cells": [
  {
   "cell_type": "markdown",
   "source": [
    "# The Extension\n",
    "\n",
    "## Tasks\n",
    "\n",
    "~~Make a markdown block to separate your changes from the baseline file, and include a title using the # markdown.\n",
    "Since it may have been while, run all the cells in the notebook, and look in particular at the tests you wrote for check_letter, check_guess, and make_guess:\n",
    "Some tests are included in the sample solution, e.g. print(check_letter(\"S\", 0, \"STOUT\")).\n",
    "Note that it is likely that not all tests will pass at this stage. \n",
    "If you have not seen the notebook before, it is worth going back through the tasks at Wordle.~~\n",
    "\n",
    "___\n",
    "\n",
    "~~Consolidate your tests for the current operations and functions into a single code cell so they can be run repeatedly.\n",
    "Make a markdown block with a subheading using the ## markdown to show what this section does.\n",
    "Make a code block below and move the tests there, using comments to break them into groups.\n",
    "Note: your code block with tests and game block must always be at the bottom of the notebook so that the functions are all defined before use.~~\n",
    "\n",
    "___\n",
    "Create an operation hint() -> Hint that gives the user an appropriate hint given the state of the game.\n",
    "Make a markdown block with a subheading and then a code block.\n",
    "Define a Hint type as an alias of an appropriate basic type (e.g., a string). Python does not have a char type, so add an invariant to ensure that a hint can only be a single letter in [A-Z].\n",
    "\n",
    "Consider any pre-conditions required as well as defining the operation body. Document any assumptions you make in interpreting this requirement in your report.\n",
    "Implement hint that returns a single character to the user to help them. Again, decide what this should be and document any assumptions. \n",
    "\n",
    "Extend your test cell to include hint().\n",
    "\n",
    "___\n",
    "\n",
    "You should discover that the naive implementation of the check_guess combined with check_letter does not produce correct results in all situations, i.e. where there are repeated letters. Improve the check_letter function so that is passes the tests. Improve the specification to fix this issue.\n",
    "Hint: the colour of a letter is conditional on the number of other occurrences of the letter in the word.\n",
    "There are several ways to achieve this. For example, check_letter could be updated to take in sufficient additional information to provide the correct colour, or the body of check_guess could be changed to directly compute the clues without check_letter.\n",
    "\n",
    "___\n",
    "\n",
    "Wordle has a \"Hard mode\" with the following definition: \"Any revealed hints must be used in subsequent guesses.\" This rule further constrains what strings a user can guess with. Include this as a new operation called hard_guess based on the make_guess operation that meets this requirement.\n",
    "Hint: the pre-condition should constrain what guesses the player can make, the operation body will not change. \n",
    "\n",
    "___\n",
    "\n",
    "Extend your test cell with test_check_letter \n",
    "\n",
    "## Extensions\n",
    "There are several ways the specification can be extended:\n",
    "\n",
    "1. Additional invariants. Consider any further constraints on the state Game covering the relationship between gstate and guesses and add to the invariant definition.\n",
    "\n",
    "2. Additional pre-conditions. Are there any other pre-conditions (or parts of pre-conditions) on any of the functions defined. \n",
    "\n",
    "3. Visualisations. Since we have a Python model, functions could pretty print the game state, or even visualise it. \n",
    "\n",
    "---\n",
    "\n",
    "Expansions. There are a variety of Wordle clones building on the idea. Duplicate and rename your wordle.vdmsl when trying these to preserve the main tasks:\n",
    "Dordle: https://zaratustra.itch.io/dordleLinks to an external site. \n",
    "Quordle: https://www.quordle.com/Links to an external site. \n",
    "Octordle: https://octordle.com/Links to an external site. \n",
    "\n",
    "## What to Include in Your Report\n",
    "The What Was Done and How section of your report could include: \n",
    "\n",
    "1. A description of the features of the model that were added.\n",
    "2. A description of additional or changed data types and any invariants.\n",
    "3. A description of key functionality added or updated, including pre- and post-conditions.\n",
    "4. A description of how the model realises the requirements and any assumptions made in interpreting natural-language requirements.\n",
    "\n",
    "5. Details of how the model was tested.\n",
    "Model snippets of elements such as types, state, functions, operations and pre- and post-conditions to support the descriptions.\n",
    "\n",
    "It is your decision as to what to include to demonstrate the work you have done."
   ],
   "metadata": {
    "collapsed": false
   },
   "id": "a33f6c06aafe22b4"
  },
  {
   "cell_type": "markdown",
   "source": [
    "# Changes\n",
    "\n",
    "Moved all the tests into a single function. This allows for more tests to be added very easily and allows for all the tests to be disabled very easily "
   ],
   "metadata": {
    "collapsed": false
   },
   "id": "f1de814f44b3608b"
  },
  {
   "cell_type": "code",
   "outputs": [],
   "source": [
    "from main import check_letter\n",
    "from main import check_guess\n",
    "from main import Game\n",
    "\n",
    "def test():\n",
    "\n",
    "    print(check_letter(\"S\", 0, \"STOUT\"))  # Expected Output: CLUE.GREEN\n",
    "    print(check_letter(\"S\", 3, \"STOUT\"))  # Expected Output: CLUE.YELLOW\n",
    "    print(check_letter(\"Z\", 0, \"STOUT\"))  # Expected Output: CLUE.GREY\n",
    "\n",
    "    print(check_guess(\"STAND\", \"STOUT\"))\n",
    "    # Expected Output: [<Clue.GREEN: 1>, <Clue.GREEN: 1>, <Clue.GREY: 3>, <Clue.GREY: 3>, <Clue.YELLOW: 2>]\n",
    "    pass\n",
    "\n",
    "game = Game()\n",
    "\n",
    "test()\n"
   ],
   "metadata": {
    "collapsed": false
   },
   "id": "2fcd5e47f05ba155"
  },
  {
   "cell_type": "markdown",
   "source": [
    "Created a hint() function:\n",
    "\n",
    "Defined a Hint type as an alias of a string. Python does not have a char type, so added an invariant to ensure that a hint can only be a single letter in [A-Z].\n",
    "\n",
    "Extended test to incorporate hint class and ensure functionality\n",
    "\n",
    "\n",
    "Hint that gives the user an appropriate hint given the state of the game.\n",
    "\n",
    "\n",
    "Consider any pre-conditions required as well as defining the operation body. Document any assumptions you make in interpreting this requirement in your report.\n",
    "Implement hint that returns a single character to the user to help them. Again, decide what this should be and document any assumptions. \n"
   ],
   "metadata": {
    "collapsed": false
   },
   "id": "324526560248fa1c"
  },
  {
   "cell_type": "code",
   "outputs": [],
   "source": [
    "class Hint:\n",
    "    def __init__(self, hint):\n",
    "        # Ensures a string\n",
    "        if not isinstance(hint, str):\n",
    "            raise TypeError(\"Hint must be a string\")\n",
    "\n",
    "        # Ensures a single character\n",
    "\n",
    "        if len(hint) != 1:\n",
    "            raise ValueError(\"Hint must be a single character\")\n",
    "\n",
    "        # Ensures is alphabetic and upper\n",
    "\n",
    "        if not hint.isalpha() or not hint.isupper():\n",
    "            raise ValueError(\"Hint must be a single uppercase letter A-Z\")\n",
    "\n",
    "        # Sets hint to hint\n",
    "        self.hint = hint\n",
    "\n",
    "    def __str__(self): return self.hint\n",
    "    \n",
    "def test():\n",
    "\n",
    "    # Test cases to be included here\n",
    "\n",
    "    print(check_letter(\"S\", 0, \"STOUT\"))  # Expected Output: CLUE.GREEN\n",
    "    print(check_letter(\"S\", 3, \"STOUT\"))  # Expected Output: CLUE.YELLOW\n",
    "    print(check_letter(\"Z\", 0, \"STOUT\"))  # Expected Output: CLUE.GREY\n",
    "\n",
    "    print(check_guess(\"STAND\", \"STOUT\"))\n",
    "    # Expected Output: [<Clue.GREEN: 1>, <Clue.GREEN: 1>, <Clue.GREY: 3>, <Clue.GREY: 3>, <Clue.YELLOW: 2>]\n",
    "\n",
    "    try:\n",
    "        hint1 = Hint('A')\n",
    "        print(hint1)  # Output: A\n",
    "\n",
    "        hint2 = Hint('AB')  # ValueError: Hint must be a single character\n",
    "    except ValueError as e:\n",
    "        print(e)"
   ],
   "metadata": {
    "collapsed": false
   },
   "id": "d927dad6821892cf"
  }
 ],
 "metadata": {
  "kernelspec": {
   "display_name": "Python 3",
   "language": "python",
   "name": "python3"
  },
  "language_info": {
   "codemirror_mode": {
    "name": "ipython",
    "version": 2
   },
   "file_extension": ".py",
   "mimetype": "text/x-python",
   "name": "python",
   "nbconvert_exporter": "python",
   "pygments_lexer": "ipython2",
   "version": "2.7.6"
  }
 },
 "nbformat": 4,
 "nbformat_minor": 5
}
